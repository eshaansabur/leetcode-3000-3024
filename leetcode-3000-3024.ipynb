{
 "cells": [
  {
   "cell_type": "code",
   "execution_count": 17,
   "id": "4e8eac33-51df-42cc-be2c-bf3da2e48909",
   "metadata": {},
   "outputs": [
    {
     "data": {
      "text/plain": [
       "30"
      ]
     },
     "execution_count": 17,
     "metadata": {},
     "output_type": "execute_result"
    }
   ],
   "source": [
    "dimensions= [[2,6],[5,1],[3,10],[8,4]]\n",
    "def areaOfMaxDiagonal(dimensions):\n",
    "    products_list= []\n",
    "    dl_list= []\n",
    "    for i in range(0, len(dimensions)):\n",
    "        d_l=0\n",
    "        for d in dimensions[i]:\n",
    "            d_l = d_l+ d ** 2\n",
    "        dl_list.append(d_l ** 0.5)\n",
    "    #print(dl_list)\n",
    "    Max = max(dl_list)\n",
    "    Max_index_list= []\n",
    "    for i in range(len(dl_list)):\n",
    "        if dl_list[i] == Max:\n",
    "            Max_index_list.append(i)\n",
    "    #print(Max_index_list)\n",
    "    for i in Max_index_list:\n",
    "        p= 1\n",
    "        for d in dimensions[i]:\n",
    "            p= p*d\n",
    "        products_list.append(p)\n",
    "    return max(products_list)\n",
    "areaOfMaxDiagonal(dimensions)"
   ]
  },
  {
   "cell_type": "code",
   "execution_count": 34,
   "id": "25d639dd-1011-46e5-8602-2a8e9e008835",
   "metadata": {},
   "outputs": [
    {
     "data": {
      "text/plain": [
       "'none'"
      ]
     },
     "execution_count": 34,
     "metadata": {},
     "output_type": "execute_result"
    }
   ],
   "source": [
    "nums = [8,4,4]\n",
    "\n",
    "def triangleType(nums):\n",
    "    if nums[0] == nums[1] and nums[0] == nums[2]:\n",
    "        return \"equilateral\"\n",
    "    elif (nums[0] == nums[1] and nums[2] < nums[0] *2) or (nums[0] == nums[2] and nums[1] < nums[0] *2) or (nums[1]== nums[2] and nums[0] < nums[1] *2):\n",
    "        return \"isosceles\"\n",
    "    elif nums[0]+nums[1] > nums[2] and nums[1]+nums[2] > nums[0] and nums[2]+nums[0] > nums[1]:\n",
    "        return \"scalene\"\n",
    "    else:\n",
    "        return \"none\"\n",
    "\n",
    "triangleType(nums)\n"
   ]
  },
  {
   "cell_type": "code",
   "execution_count": null,
   "id": "3b46071b-9ac4-4b43-a78a-b70182f97a06",
   "metadata": {},
   "outputs": [],
   "source": []
  }
 ],
 "metadata": {
  "kernelspec": {
   "display_name": "Python 3 (ipykernel)",
   "language": "python",
   "name": "python3"
  },
  "language_info": {
   "codemirror_mode": {
    "name": "ipython",
    "version": 3
   },
   "file_extension": ".py",
   "mimetype": "text/x-python",
   "name": "python",
   "nbconvert_exporter": "python",
   "pygments_lexer": "ipython3",
   "version": "3.11.7"
  }
 },
 "nbformat": 4,
 "nbformat_minor": 5
}
